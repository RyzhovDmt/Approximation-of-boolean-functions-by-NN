{
 "cells": [
  {
   "cell_type": "markdown",
   "metadata": {},
   "source": [
    "# Аппроксимация логических функций"
   ]
  },
  {
   "cell_type": "markdown",
   "metadata": {},
   "source": [
    "## Двоичная логика"
   ]
  },
  {
   "attachments": {},
   "cell_type": "markdown",
   "metadata": {},
   "source": [
    "Два входа и 6 выходов, моделирующих основные бинарные  логические функции - конъюнкция, дизъюнкция, исключающее или, импликация, штрих Шеффера и Стрелку Пирса."
   ]
  },
  {
   "cell_type": "code",
   "execution_count": 21,
   "metadata": {},
   "outputs": [],
   "source": [
    "import tensorflow as tf\n",
    "\n",
    "from tensorflow.keras import layers\n",
    "from tensorflow import keras"
   ]
  },
  {
   "cell_type": "code",
   "execution_count": 2,
   "metadata": {
    "executionInfo": {
     "elapsed": 3381,
     "status": "ok",
     "timestamp": 1603868429657,
     "user": {
      "displayName": "Parrison Forrd",
      "photoUrl": "https://lh3.googleusercontent.com/a-/AOh14Gg9EyVb1YoVPDuTPZoDKSom3sGncziictKef5fSiw=s64",
      "userId": "16897374853976334969"
     },
     "user_tz": -180
    },
    "id": "_EItQh9q8sjW"
   },
   "outputs": [],
   "source": [
    "def f_and(x1,x2):\n",
    "  return int(x1 and x2)\n",
    "def f_or(x1,x2):\n",
    "  return int(x1 or x2)\n",
    "def f_xor(x1,x2):\n",
    "  return int(x1 != x2)\n",
    "def f_imp(x1,x2):\n",
    "  return int(x1 <= x2)\n",
    "def f_sh(x1,x2):\n",
    "  return int(x1!=1 or x2!=1)\n",
    "def f_nor(x1,x2):\n",
    "  return int(x1!=1 and x2!=1)"
   ]
  },
  {
   "cell_type": "code",
   "execution_count": 3,
   "metadata": {
    "executionInfo": {
     "elapsed": 2346,
     "status": "ok",
     "timestamp": 1603868431981,
     "user": {
      "displayName": "Parrison Forrd",
      "photoUrl": "https://lh3.googleusercontent.com/a-/AOh14Gg9EyVb1YoVPDuTPZoDKSom3sGncziictKef5fSiw=s64",
      "userId": "16897374853976334969"
     },
     "user_tz": -180
    },
    "id": "5emRu1xO9LE2"
   },
   "outputs": [],
   "source": [
    "from itertools import product"
   ]
  },
  {
   "cell_type": "code",
   "execution_count": 4,
   "metadata": {
    "executionInfo": {
     "elapsed": 1492,
     "status": "ok",
     "timestamp": 1603868431982,
     "user": {
      "displayName": "Parrison Forrd",
      "photoUrl": "https://lh3.googleusercontent.com/a-/AOh14Gg9EyVb1YoVPDuTPZoDKSom3sGncziictKef5fSiw=s64",
      "userId": "16897374853976334969"
     },
     "user_tz": -180
    },
    "id": "Oqz3J7GE9S1V"
   },
   "outputs": [],
   "source": [
    "inpt = [*product([0,1], repeat=2)]"
   ]
  },
  {
   "cell_type": "code",
   "execution_count": 5,
   "metadata": {
    "colab": {
     "base_uri": "https://localhost:8080/",
     "height": 34
    },
    "executionInfo": {
     "elapsed": 1186,
     "status": "ok",
     "timestamp": 1603868432572,
     "user": {
      "displayName": "Parrison Forrd",
      "photoUrl": "https://lh3.googleusercontent.com/a-/AOh14Gg9EyVb1YoVPDuTPZoDKSom3sGncziictKef5fSiw=s64",
      "userId": "16897374853976334969"
     },
     "user_tz": -180
    },
    "id": "63KhXVvR95Xt",
    "outputId": "5d380ca9-5e24-4f33-df33-81121c2da772"
   },
   "outputs": [
    {
     "data": {
      "text/plain": [
       "[(0, 0), (0, 1), (1, 0), (1, 1)]"
      ]
     },
     "execution_count": 5,
     "metadata": {},
     "output_type": "execute_result"
    }
   ],
   "source": [
    "inpt"
   ]
  },
  {
   "cell_type": "code",
   "execution_count": 6,
   "metadata": {
    "executionInfo": {
     "elapsed": 943,
     "status": "ok",
     "timestamp": 1603868604661,
     "user": {
      "displayName": "Parrison Forrd",
      "photoUrl": "https://lh3.googleusercontent.com/a-/AOh14Gg9EyVb1YoVPDuTPZoDKSom3sGncziictKef5fSiw=s64",
      "userId": "16897374853976334969"
     },
     "user_tz": -180
    },
    "id": "rQRiEXCq-JGd"
   },
   "outputs": [],
   "source": [
    "import numpy as np\n",
    "def generate_ds(k, repeat=1):\n",
    "  X = np.array([*product([0,1], repeat=k)]*repeat)\n",
    "  y = np.array([[f_and(*x), f_or(*x), f_xor(*x),\n",
    "               f_imp(*x), f_sh(*x), f_nor(*x)] for x in X]) \n",
    "  return X, y\n"
   ]
  },
  {
   "cell_type": "code",
   "execution_count": 7,
   "metadata": {
    "executionInfo": {
     "elapsed": 434,
     "status": "ok",
     "timestamp": 1603868604970,
     "user": {
      "displayName": "Parrison Forrd",
      "photoUrl": "https://lh3.googleusercontent.com/a-/AOh14Gg9EyVb1YoVPDuTPZoDKSom3sGncziictKef5fSiw=s64",
      "userId": "16897374853976334969"
     },
     "user_tz": -180
    },
    "id": "yxK9dUZK-T3D"
   },
   "outputs": [],
   "source": [
    "X, y = generate_ds(2, 200)"
   ]
  },
  {
   "cell_type": "code",
   "execution_count": 8,
   "metadata": {
    "colab": {
     "base_uri": "https://localhost:8080/",
     "height": 34
    },
    "executionInfo": {
     "elapsed": 534,
     "status": "ok",
     "timestamp": 1603868605366,
     "user": {
      "displayName": "Parrison Forrd",
      "photoUrl": "https://lh3.googleusercontent.com/a-/AOh14Gg9EyVb1YoVPDuTPZoDKSom3sGncziictKef5fSiw=s64",
      "userId": "16897374853976334969"
     },
     "user_tz": -180
    },
    "id": "wIwthgcZ_Xzn",
    "outputId": "83bcb581-cd0d-440b-8127-851ccbb2cb7e"
   },
   "outputs": [
    {
     "data": {
      "text/plain": [
       "(800, 2)"
      ]
     },
     "execution_count": 8,
     "metadata": {},
     "output_type": "execute_result"
    }
   ],
   "source": [
    "X.shape"
   ]
  },
  {
   "cell_type": "code",
   "execution_count": 9,
   "metadata": {
    "colab": {
     "base_uri": "https://localhost:8080/",
     "height": 34
    },
    "executionInfo": {
     "elapsed": 765,
     "status": "ok",
     "timestamp": 1603868605787,
     "user": {
      "displayName": "Parrison Forrd",
      "photoUrl": "https://lh3.googleusercontent.com/a-/AOh14Gg9EyVb1YoVPDuTPZoDKSom3sGncziictKef5fSiw=s64",
      "userId": "16897374853976334969"
     },
     "user_tz": -180
    },
    "id": "5RjXlSNP-ziK",
    "outputId": "d54b6c06-18ff-40df-c857-13a7cdd035ec"
   },
   "outputs": [
    {
     "data": {
      "text/plain": [
       "(800, 6)"
      ]
     },
     "execution_count": 9,
     "metadata": {},
     "output_type": "execute_result"
    }
   ],
   "source": [
    "y.shape"
   ]
  },
  {
   "cell_type": "code",
   "execution_count": 10,
   "metadata": {
    "colab": {
     "base_uri": "https://localhost:8080/",
     "height": 134
    },
    "executionInfo": {
     "elapsed": 881,
     "status": "ok",
     "timestamp": 1603868607125,
     "user": {
      "displayName": "Parrison Forrd",
      "photoUrl": "https://lh3.googleusercontent.com/a-/AOh14Gg9EyVb1YoVPDuTPZoDKSom3sGncziictKef5fSiw=s64",
      "userId": "16897374853976334969"
     },
     "user_tz": -180
    },
    "id": "jbU8E98F_Xzv",
    "outputId": "d4e2b98a-1429-4e5e-8eed-e087313b7165"
   },
   "outputs": [
    {
     "data": {
      "text/plain": [
       "array([[0, 0, 0, 1, 1, 1],\n",
       "       [0, 1, 1, 1, 1, 0],\n",
       "       [0, 1, 1, 0, 1, 0],\n",
       "       ...,\n",
       "       [0, 1, 1, 1, 1, 0],\n",
       "       [0, 1, 1, 0, 1, 0],\n",
       "       [1, 1, 0, 1, 0, 0]])"
      ]
     },
     "execution_count": 10,
     "metadata": {},
     "output_type": "execute_result"
    }
   ],
   "source": [
    "y"
   ]
  },
  {
   "cell_type": "markdown",
   "metadata": {},
   "source": [
    "+ 1 hidden layer (6, 'relu')\n",
    "+ output: sigmoid"
   ]
  },
  {
   "cell_type": "code",
   "execution_count": 11,
   "metadata": {
    "executionInfo": {
     "elapsed": 863,
     "status": "ok",
     "timestamp": 1603868607839,
     "user": {
      "displayName": "Parrison Forrd",
      "photoUrl": "https://lh3.googleusercontent.com/a-/AOh14Gg9EyVb1YoVPDuTPZoDKSom3sGncziictKef5fSiw=s64",
      "userId": "16897374853976334969"
     },
     "user_tz": -180
    },
    "id": "EHUEfMN6_HmS"
   },
   "outputs": [],
   "source": [
    "inputs = keras.Input(shape=(2,), name=\"input\")\n",
    "layer1 = layers.Dense(6, activation=\"relu\", name=\"dense1\")(inputs)\n",
    "outputs = layers.Dense(6, activation=\"sigmoid\", name=\"out\")(layer1)"
   ]
  },
  {
   "cell_type": "code",
   "execution_count": 12,
   "metadata": {
    "executionInfo": {
     "elapsed": 931,
     "status": "ok",
     "timestamp": 1603868608420,
     "user": {
      "displayName": "Parrison Forrd",
      "photoUrl": "https://lh3.googleusercontent.com/a-/AOh14Gg9EyVb1YoVPDuTPZoDKSom3sGncziictKef5fSiw=s64",
      "userId": "16897374853976334969"
     },
     "user_tz": -180
    },
    "id": "DO_LACm-_ayg"
   },
   "outputs": [],
   "source": [
    "model_6_6 = keras.Model(inputs=inputs, outputs=outputs)"
   ]
  },
  {
   "cell_type": "code",
   "execution_count": 13,
   "metadata": {
    "colab": {
     "base_uri": "https://localhost:8080/",
     "height": 252
    },
    "executionInfo": {
     "elapsed": 786,
     "status": "ok",
     "timestamp": 1603868608783,
     "user": {
      "displayName": "Parrison Forrd",
      "photoUrl": "https://lh3.googleusercontent.com/a-/AOh14Gg9EyVb1YoVPDuTPZoDKSom3sGncziictKef5fSiw=s64",
      "userId": "16897374853976334969"
     },
     "user_tz": -180
    },
    "id": "dqCQAnVuBdKr",
    "outputId": "c842de0d-b53a-4eb1-9673-316eaef4b537"
   },
   "outputs": [
    {
     "name": "stdout",
     "output_type": "stream",
     "text": [
      "Model: \"model\"\n",
      "_________________________________________________________________\n",
      "Layer (type)                 Output Shape              Param #   \n",
      "=================================================================\n",
      "input (InputLayer)           [(None, 2)]               0         \n",
      "_________________________________________________________________\n",
      "dense1 (Dense)               (None, 6)                 18        \n",
      "_________________________________________________________________\n",
      "out (Dense)                  (None, 6)                 42        \n",
      "=================================================================\n",
      "Total params: 60\n",
      "Trainable params: 60\n",
      "Non-trainable params: 0\n",
      "_________________________________________________________________\n"
     ]
    }
   ],
   "source": [
    "model_6_6.summary()"
   ]
  },
  {
   "cell_type": "code",
   "execution_count": 24,
   "metadata": {
    "colab": {
     "base_uri": "https://localhost:8080/",
     "height": 312
    },
    "executionInfo": {
     "elapsed": 1269,
     "status": "ok",
     "timestamp": 1603868609641,
     "user": {
      "displayName": "Parrison Forrd",
      "photoUrl": "https://lh3.googleusercontent.com/a-/AOh14Gg9EyVb1YoVPDuTPZoDKSom3sGncziictKef5fSiw=s64",
      "userId": "16897374853976334969"
     },
     "user_tz": -180
    },
    "id": "W5HYHMwWBiGk",
    "outputId": "a24c22e7-40f7-41ea-d951-b9faf62ce835"
   },
   "outputs": [
    {
     "data": {
      "image/png": "[encoded data removed]",
      "text/plain": [
       "<IPython.core.display.Image object>"
      ]
     },
     "execution_count": 24,
     "metadata": {
      "tags": []
     },
     "output_type": "execute_result"
    }
   ],
   "source": [
    "from tensorflow.keras.utils import plot_model\n",
    "plot_model(model_6_6, show_shapes=True, show_layer_names=True)"
   ]
  },
  {
   "cell_type": "code",
   "execution_count": 25,
   "metadata": {
    "executionInfo": {
     "elapsed": 910,
     "status": "ok",
     "timestamp": 1603868609643,
     "user": {
      "displayName": "Parrison Forrd",
      "photoUrl": "https://lh3.googleusercontent.com/a-/AOh14Gg9EyVb1YoVPDuTPZoDKSom3sGncziictKef5fSiw=s64",
      "userId": "16897374853976334969"
     },
     "user_tz": -180
    },
    "id": "RwhB5N5dC2MV"
   },
   "outputs": [],
   "source": [
    "model_6_6.compile(loss=tf.keras.losses.mean_squared_error, optimizer=\"SGD\")\n"
   ]
  },
  {
   "cell_type": "code",
   "execution_count": 26,
   "metadata": {
    "colab": {
     "base_uri": "https://localhost:8080/",
     "height": 1000
    },
    "executionInfo": {
     "elapsed": 7219,
     "status": "ok",
     "timestamp": 1603868616357,
     "user": {
      "displayName": "Parrison Forrd",
      "photoUrl": "https://lh3.googleusercontent.com/a-/AOh14Gg9EyVb1YoVPDuTPZoDKSom3sGncziictKef5fSiw=s64",
      "userId": "16897374853976334969"
     },
     "user_tz": -180
    },
    "id": "t3jr7eEGD-OX",
    "outputId": "91f8de21-c32b-4fe6-bb30-f8e7d8e5dafa"
   },
   "outputs": [
    {
     "name": "stdout",
     "output_type": "stream",
     "text": [
      "Epoch 1/50\n",
      "134/134 [==============================] - 0s 878us/step - loss: 0.2367\n",
      "Epoch 2/50\n",
      "134/134 [==============================] - 0s 905us/step - loss: 0.2312\n",
      "Epoch 3/50\n",
      "134/134 [==============================] - 0s 873us/step - loss: 0.2262\n",
      "Epoch 4/50\n",
      "134/134 [==============================] - 0s 818us/step - loss: 0.2217\n",
      "Epoch 5/50\n",
      "134/134 [==============================] - 0s 876us/step - loss: 0.2176\n",
      "Epoch 6/50\n",
      "134/134 [==============================] - 0s 740us/step - loss: 0.2139\n",
      "Epoch 7/50\n",
      "134/134 [==============================] - 0s 855us/step - loss: 0.2105\n",
      "Epoch 8/50\n",
      "134/134 [==============================] - 0s 824us/step - loss: 0.2073\n",
      "Epoch 9/50\n",
      "134/134 [==============================] - 0s 878us/step - loss: 0.2044\n",
      "Epoch 10/50\n",
      "134/134 [==============================] - 0s 814us/step - loss: 0.2014\n",
      "Epoch 11/50\n",
      "134/134 [==============================] - 0s 736us/step - loss: 0.1986\n",
      "Epoch 12/50\n",
      "134/134 [==============================] - 0s 822us/step - loss: 0.1960\n",
      "Epoch 13/50\n",
      "134/134 [==============================] - 0s 910us/step - loss: 0.1935\n",
      "Epoch 14/50\n",
      "134/134 [==============================] - 0s 836us/step - loss: 0.1912\n",
      "Epoch 15/50\n",
      "134/134 [==============================] - 0s 823us/step - loss: 0.1889\n",
      "Epoch 16/50\n",
      "134/134 [==============================] - 0s 870us/step - loss: 0.1867\n",
      "Epoch 17/50\n",
      "134/134 [==============================] - 0s 826us/step - loss: 0.1842\n",
      "Epoch 18/50\n",
      "134/134 [==============================] - 0s 869us/step - loss: 0.1816\n",
      "Epoch 19/50\n",
      "134/134 [==============================] - 0s 930us/step - loss: 0.1792\n",
      "Epoch 20/50\n",
      "134/134 [==============================] - 0s 939us/step - loss: 0.1769\n",
      "Epoch 21/50\n",
      "134/134 [==============================] - 0s 818us/step - loss: 0.1746\n",
      "Epoch 22/50\n",
      "134/134 [==============================] - 0s 959us/step - loss: 0.1724\n",
      "Epoch 23/50\n",
      "134/134 [==============================] - 0s 869us/step - loss: 0.1702\n",
      "Epoch 24/50\n",
      "134/134 [==============================] - 0s 879us/step - loss: 0.1680\n",
      "Epoch 25/50\n",
      "134/134 [==============================] - 0s 741us/step - loss: 0.1659\n",
      "Epoch 26/50\n",
      "134/134 [==============================] - 0s 733us/step - loss: 0.1638\n",
      "Epoch 27/50\n",
      "134/134 [==============================] - 0s 794us/step - loss: 0.1617\n",
      "Epoch 28/50\n",
      "134/134 [==============================] - 0s 812us/step - loss: 0.1596\n",
      "Epoch 29/50\n",
      "134/134 [==============================] - 0s 863us/step - loss: 0.1575\n",
      "Epoch 30/50\n",
      "134/134 [==============================] - 0s 871us/step - loss: 0.1555\n",
      "Epoch 31/50\n",
      "134/134 [==============================] - 0s 820us/step - loss: 0.1535\n",
      "Epoch 32/50\n",
      "134/134 [==============================] - 0s 865us/step - loss: 0.1515\n",
      "Epoch 33/50\n",
      "134/134 [==============================] - 0s 834us/step - loss: 0.1495\n",
      "Epoch 34/50\n",
      "134/134 [==============================] - 0s 803us/step - loss: 0.1475\n",
      "Epoch 35/50\n",
      "134/134 [==============================] - 0s 842us/step - loss: 0.1455\n",
      "Epoch 36/50\n",
      "134/134 [==============================] - 0s 765us/step - loss: 0.1436\n",
      "Epoch 37/50\n",
      "134/134 [==============================] - 0s 809us/step - loss: 0.1417\n",
      "Epoch 38/50\n",
      "134/134 [==============================] - 0s 902us/step - loss: 0.1398\n",
      "Epoch 39/50\n",
      "134/134 [==============================] - 0s 854us/step - loss: 0.1379\n",
      "Epoch 40/50\n",
      "134/134 [==============================] - 0s 851us/step - loss: 0.1360\n",
      "Epoch 41/50\n",
      "134/134 [==============================] - 0s 913us/step - loss: 0.1341\n",
      "Epoch 42/50\n",
      "134/134 [==============================] - 0s 844us/step - loss: 0.1323\n",
      "Epoch 43/50\n",
      "134/134 [==============================] - 0s 836us/step - loss: 0.1304\n",
      "Epoch 44/50\n",
      "134/134 [==============================] - 0s 762us/step - loss: 0.1286\n",
      "Epoch 45/50\n",
      "134/134 [==============================] - 0s 818us/step - loss: 0.1268\n",
      "Epoch 46/50\n",
      "134/134 [==============================] - 0s 871us/step - loss: 0.1250\n",
      "Epoch 47/50\n",
      "134/134 [==============================] - 0s 741us/step - loss: 0.1233\n",
      "Epoch 48/50\n",
      "134/134 [==============================] - 0s 842us/step - loss: 0.1216\n",
      "Epoch 49/50\n",
      "134/134 [==============================] - 0s 918us/step - loss: 0.1199\n",
      "Epoch 50/50\n",
      "134/134 [==============================] - 0s 798us/step - loss: 0.1183\n"
     ]
    }
   ],
   "source": [
    "history = model_6_6.fit(X, y, batch_size=6, epochs=50)"
   ]
  },
  {
   "cell_type": "code",
   "execution_count": 27,
   "metadata": {
    "colab": {
     "base_uri": "https://localhost:8080/",
     "height": 218
    },
    "executionInfo": {
     "elapsed": 6899,
     "status": "ok",
     "timestamp": 1603868616358,
     "user": {
      "displayName": "Parrison Forrd",
      "photoUrl": "https://lh3.googleusercontent.com/a-/AOh14Gg9EyVb1YoVPDuTPZoDKSom3sGncziictKef5fSiw=s64",
      "userId": "16897374853976334969"
     },
     "user_tz": -180
    },
    "id": "TDm6ceOlFBNr",
    "outputId": "6249723d-19db-4ee8-d4fa-6b469804223c"
   },
   "outputs": [
    {
     "name": "stdout",
     "output_type": "stream",
     "text": [
      "[[0 0 0 1 1 1]\n",
      " [0 1 1 1 1 0]\n",
      " [0 1 1 0 1 0]\n",
      " [1 1 0 1 0 0]\n",
      " [0 0 0 1 1 1]\n",
      " [0 1 1 1 1 0]\n",
      " [0 1 1 0 1 0]\n",
      " [1 1 0 1 0 0]\n",
      " [0 0 0 1 1 1]\n",
      " [0 1 1 1 1 0]\n",
      " [0 1 1 0 1 0]\n",
      " [1 1 0 1 0 0]]\n"
     ]
    }
   ],
   "source": [
    "predictions = model_6_6.predict(X[:12])\n",
    "print( y[:12])\n"
   ]
  },
  {
   "cell_type": "code",
   "execution_count": 28,
   "metadata": {
    "colab": {
     "base_uri": "https://localhost:8080/",
     "height": 282
    },
    "executionInfo": {
     "elapsed": 6921,
     "status": "ok",
     "timestamp": 1603868616955,
     "user": {
      "displayName": "Parrison Forrd",
      "photoUrl": "https://lh3.googleusercontent.com/a-/AOh14Gg9EyVb1YoVPDuTPZoDKSom3sGncziictKef5fSiw=s64",
      "userId": "16897374853976334969"
     },
     "user_tz": -180
    },
    "id": "zkYcTPdCFgl9",
    "outputId": "a712e942-28d8-4e28-a628-4550037b3847"
   },
   "outputs": [
    {
     "data": {
      "text/plain": [
       "[<matplotlib.lines.Line2D at 0x7fc157bd38d0>]"
      ]
     },
     "execution_count": 28,
     "metadata": {
      "tags": []
     },
     "output_type": "execute_result"
    },
    {
     "data": {
      "image/png": "[encoded data removed]",
      "text/plain": [
       "<Figure size 432x288 with 1 Axes>"
      ]
     },
     "metadata": {
      "needs_background": "light",
      "tags": []
     },
     "output_type": "display_data"
    }
   ],
   "source": [
    "import matplotlib.pyplot as plt\n",
    "plt.plot(history.history['loss'])"
   ]
  },
  {
   "cell_type": "code",
   "execution_count": 14,
   "metadata": {
    "executionInfo": {
     "elapsed": 5955,
     "status": "ok",
     "timestamp": 1603868616957,
     "user": {
      "displayName": "Parrison Forrd",
      "photoUrl": "https://lh3.googleusercontent.com/a-/AOh14Gg9EyVb1YoVPDuTPZoDKSom3sGncziictKef5fSiw=s64",
      "userId": "16897374853976334969"
     },
     "user_tz": -180
    },
    "id": "5fAs5sWSHc9z"
   },
   "outputs": [],
   "source": [
    "def run_test(model, eps, X, y, k=100):\n",
    "  new_x = np.tile(X, (k,1))\n",
    "  new_y = np.tile(y, (k,1))\n",
    "  noisy_x = new_x + (0.5 - np.random.ranf(new_x.shape))*eps\n",
    "  predictions = model.predict(noisy_x)\n",
    "  predictions = np.rint(predictions.flatten())\n",
    "  errors = np.sum(np.square(predictions - new_y.flatten()))\n",
    "  return errors, errors/new_y.size\n"
   ]
  },
  {
   "cell_type": "markdown",
   "metadata": {},
   "source": [
    "+ layer 2 (8, 'elu')\n",
    "+ output: sigmoid -> elu"
   ]
  },
  {
   "cell_type": "code",
   "execution_count": 1,
   "metadata": {
    "colab": {
     "base_uri": "https://localhost:8080/",
     "height": 286
    },
    "executionInfo": {
     "elapsed": 1206,
     "status": "ok",
     "timestamp": 1603868636515,
     "user": {
      "displayName": "Parrison Forrd",
      "photoUrl": "https://lh3.googleusercontent.com/a-/AOh14Gg9EyVb1YoVPDuTPZoDKSom3sGncziictKef5fSiw=s64",
      "userId": "16897374853976334969"
     },
     "user_tz": -180
    },
    "id": "-n5YVDYlK-Rp",
    "outputId": "28e501a8-5d8e-4d2d-cdc9-223de4fa8f1e"
   },
   "outputs": [
    {
     "ename": "NameError",
     "evalue": "name 'keras' is not defined",
     "output_type": "error",
     "traceback": [
      "\u001b[1;31m---------------------------------------------------------------------------\u001b[0m",
      "\u001b[1;31mNameError\u001b[0m                                 Traceback (most recent call last)",
      "\u001b[1;32m<ipython-input-1-b93ccc846a20>\u001b[0m in \u001b[0;36m<module>\u001b[1;34m\u001b[0m\n\u001b[1;32m----> 1\u001b[1;33m \u001b[0minputs\u001b[0m \u001b[1;33m=\u001b[0m \u001b[0mkeras\u001b[0m\u001b[1;33m.\u001b[0m\u001b[0mInput\u001b[0m\u001b[1;33m(\u001b[0m\u001b[0mshape\u001b[0m\u001b[1;33m=\u001b[0m\u001b[1;33m(\u001b[0m\u001b[1;36m2\u001b[0m\u001b[1;33m,\u001b[0m\u001b[1;33m)\u001b[0m\u001b[1;33m,\u001b[0m \u001b[0mname\u001b[0m\u001b[1;33m=\u001b[0m\u001b[1;34m\"input\"\u001b[0m\u001b[1;33m)\u001b[0m\u001b[1;33m\u001b[0m\u001b[1;33m\u001b[0m\u001b[0m\n\u001b[0m\u001b[0;32m      2\u001b[0m \u001b[0mlayer1\u001b[0m \u001b[1;33m=\u001b[0m \u001b[0mlayers\u001b[0m\u001b[1;33m.\u001b[0m\u001b[0mDense\u001b[0m\u001b[1;33m(\u001b[0m\u001b[1;36m6\u001b[0m\u001b[1;33m,\u001b[0m \u001b[0mactivation\u001b[0m\u001b[1;33m=\u001b[0m\u001b[1;34m\"elu\"\u001b[0m\u001b[1;33m,\u001b[0m \u001b[0mname\u001b[0m\u001b[1;33m=\u001b[0m\u001b[1;34m\"dense1\"\u001b[0m\u001b[1;33m)\u001b[0m\u001b[1;33m(\u001b[0m\u001b[0minputs\u001b[0m\u001b[1;33m)\u001b[0m\u001b[1;33m\u001b[0m\u001b[1;33m\u001b[0m\u001b[0m\n\u001b[0;32m      3\u001b[0m \u001b[0mlayer2\u001b[0m \u001b[1;33m=\u001b[0m \u001b[0mlayers\u001b[0m\u001b[1;33m.\u001b[0m\u001b[0mDense\u001b[0m\u001b[1;33m(\u001b[0m\u001b[1;36m8\u001b[0m\u001b[1;33m,\u001b[0m \u001b[0mactivation\u001b[0m\u001b[1;33m=\u001b[0m\u001b[1;34m\"elu\"\u001b[0m\u001b[1;33m,\u001b[0m \u001b[0mname\u001b[0m\u001b[1;33m=\u001b[0m\u001b[1;34m\"dense2\"\u001b[0m\u001b[1;33m)\u001b[0m\u001b[1;33m(\u001b[0m\u001b[0mlayer1\u001b[0m\u001b[1;33m)\u001b[0m\u001b[1;33m\u001b[0m\u001b[1;33m\u001b[0m\u001b[0m\n\u001b[0;32m      4\u001b[0m \u001b[0moutputs\u001b[0m \u001b[1;33m=\u001b[0m \u001b[0mlayers\u001b[0m\u001b[1;33m.\u001b[0m\u001b[0mDense\u001b[0m\u001b[1;33m(\u001b[0m\u001b[1;36m6\u001b[0m\u001b[1;33m,\u001b[0m \u001b[0mactivation\u001b[0m\u001b[1;33m=\u001b[0m\u001b[1;34m\"elu\"\u001b[0m\u001b[1;33m,\u001b[0m \u001b[0mname\u001b[0m\u001b[1;33m=\u001b[0m\u001b[1;34m\"out\"\u001b[0m\u001b[1;33m)\u001b[0m\u001b[1;33m(\u001b[0m\u001b[0mlayer2\u001b[0m\u001b[1;33m)\u001b[0m\u001b[1;33m\u001b[0m\u001b[1;33m\u001b[0m\u001b[0m\n\u001b[0;32m      5\u001b[0m \u001b[0mmodel_6_8_6\u001b[0m \u001b[1;33m=\u001b[0m \u001b[0mkeras\u001b[0m\u001b[1;33m.\u001b[0m\u001b[0mModel\u001b[0m\u001b[1;33m(\u001b[0m\u001b[0minputs\u001b[0m\u001b[1;33m=\u001b[0m\u001b[0minputs\u001b[0m\u001b[1;33m,\u001b[0m \u001b[0moutputs\u001b[0m\u001b[1;33m=\u001b[0m\u001b[0moutputs\u001b[0m\u001b[1;33m)\u001b[0m\u001b[1;33m\u001b[0m\u001b[1;33m\u001b[0m\u001b[0m\n",
      "\u001b[1;31mNameError\u001b[0m: name 'keras' is not defined"
     ]
    }
   ],
   "source": [
    "inputs = keras.Input(shape=(2,), name=\"input\")\n",
    "layer1 = layers.Dense(6, activation=\"elu\", name=\"dense1\")(inputs)\n",
    "layer2 = layers.Dense(8, activation=\"elu\", name=\"dense2\")(layer1)\n",
    "outputs = layers.Dense(6, activation=\"elu\", name=\"out\")(layer2)\n",
    "model_6_8_6 = keras.Model(inputs=inputs, outputs=outputs)\n",
    "model_6_8_6.compile(loss=tf.keras.losses.mean_squared_error, optimizer=\"SGD\")\n",
    "from tensorflow.keras.utils import plot_model\n",
    "plot_model(model_6_8_6, show_shapes=True, show_layer_names=True)\n",
    "model_6_8_6.summary()"
   ]
  },
  {
   "cell_type": "code",
   "execution_count": 36,
   "metadata": {
    "colab": {
     "base_uri": "https://localhost:8080/",
     "height": 1000
    },
    "executionInfo": {
     "elapsed": 7355,
     "status": "ok",
     "timestamp": 1603868651464,
     "user": {
      "displayName": "Parrison Forrd",
      "photoUrl": "https://lh3.googleusercontent.com/a-/AOh14Gg9EyVb1YoVPDuTPZoDKSom3sGncziictKef5fSiw=s64",
      "userId": "16897374853976334969"
     },
     "user_tz": -180
    },
    "id": "qhyXwDX9_X0t",
    "outputId": "235deed2-0805-41ef-e8aa-a2d11536a5c9"
   },
   "outputs": [
    {
     "name": "stdout",
     "output_type": "stream",
     "text": [
      "Epoch 1/50\n",
      "134/134 [==============================] - 0s 1ms/step - loss: 0.4304\n",
      "Epoch 2/50\n",
      "134/134 [==============================] - 0s 1ms/step - loss: 0.2079\n",
      "Epoch 3/50\n",
      "134/134 [==============================] - 0s 1ms/step - loss: 0.1679\n",
      "Epoch 4/50\n",
      "134/134 [==============================] - 0s 1ms/step - loss: 0.1511\n",
      "Epoch 5/50\n",
      "134/134 [==============================] - 0s 1ms/step - loss: 0.1393\n",
      "Epoch 6/50\n",
      "134/134 [==============================] - 0s 1ms/step - loss: 0.1296\n",
      "Epoch 7/50\n",
      "134/134 [==============================] - 0s 1ms/step - loss: 0.1215\n",
      "Epoch 8/50\n",
      "134/134 [==============================] - 0s 1ms/step - loss: 0.1145\n",
      "Epoch 9/50\n",
      "134/134 [==============================] - 0s 1ms/step - loss: 0.1087\n",
      "Epoch 10/50\n",
      "134/134 [==============================] - 0s 1ms/step - loss: 0.1040\n",
      "Epoch 11/50\n",
      "134/134 [==============================] - 0s 968us/step - loss: 0.1002\n",
      "Epoch 12/50\n",
      "134/134 [==============================] - 0s 1ms/step - loss: 0.0973\n",
      "Epoch 13/50\n",
      "134/134 [==============================] - 0s 1ms/step - loss: 0.0951\n",
      "Epoch 14/50\n",
      "134/134 [==============================] - 0s 949us/step - loss: 0.0933\n",
      "Epoch 15/50\n",
      "134/134 [==============================] - 0s 1ms/step - loss: 0.0919\n",
      "Epoch 16/50\n",
      "134/134 [==============================] - 0s 1ms/step - loss: 0.0907\n",
      "Epoch 17/50\n",
      "134/134 [==============================] - 0s 1ms/step - loss: 0.0896\n",
      "Epoch 18/50\n",
      "134/134 [==============================] - 0s 1ms/step - loss: 0.0887\n",
      "Epoch 19/50\n",
      "134/134 [==============================] - 0s 961us/step - loss: 0.0878\n",
      "Epoch 20/50\n",
      "134/134 [==============================] - 0s 837us/step - loss: 0.0869\n",
      "Epoch 21/50\n",
      "134/134 [==============================] - 0s 844us/step - loss: 0.0860\n",
      "Epoch 22/50\n",
      "134/134 [==============================] - 0s 820us/step - loss: 0.0850\n",
      "Epoch 23/50\n",
      "134/134 [==============================] - 0s 921us/step - loss: 0.0841\n",
      "Epoch 24/50\n",
      "134/134 [==============================] - 0s 860us/step - loss: 0.0831\n",
      "Epoch 25/50\n",
      "134/134 [==============================] - 0s 841us/step - loss: 0.0821\n",
      "Epoch 26/50\n",
      "134/134 [==============================] - 0s 864us/step - loss: 0.0811\n",
      "Epoch 27/50\n",
      "134/134 [==============================] - 0s 823us/step - loss: 0.0800\n",
      "Epoch 28/50\n",
      "134/134 [==============================] - 0s 768us/step - loss: 0.0790\n",
      "Epoch 29/50\n",
      "134/134 [==============================] - 0s 841us/step - loss: 0.0778\n",
      "Epoch 30/50\n",
      "134/134 [==============================] - 0s 803us/step - loss: 0.0767\n",
      "Epoch 31/50\n",
      "134/134 [==============================] - 0s 868us/step - loss: 0.0755\n",
      "Epoch 32/50\n",
      "134/134 [==============================] - 0s 882us/step - loss: 0.0742\n",
      "Epoch 33/50\n",
      "134/134 [==============================] - 0s 950us/step - loss: 0.0728\n",
      "Epoch 34/50\n",
      "134/134 [==============================] - 0s 814us/step - loss: 0.0716\n",
      "Epoch 35/50\n",
      "134/134 [==============================] - 0s 837us/step - loss: 0.0702\n",
      "Epoch 36/50\n",
      "134/134 [==============================] - 0s 803us/step - loss: 0.0687\n",
      "Epoch 37/50\n",
      "134/134 [==============================] - 0s 801us/step - loss: 0.0671\n",
      "Epoch 38/50\n",
      "134/134 [==============================] - 0s 802us/step - loss: 0.0655\n",
      "Epoch 39/50\n",
      "134/134 [==============================] - 0s 761us/step - loss: 0.0639\n",
      "Epoch 40/50\n",
      "134/134 [==============================] - 0s 929us/step - loss: 0.0621\n",
      "Epoch 41/50\n",
      "134/134 [==============================] - 0s 884us/step - loss: 0.0602\n",
      "Epoch 42/50\n",
      "134/134 [==============================] - 0s 874us/step - loss: 0.0585\n",
      "Epoch 43/50\n",
      "134/134 [==============================] - 0s 835us/step - loss: 0.0565\n",
      "Epoch 44/50\n",
      "134/134 [==============================] - 0s 822us/step - loss: 0.0544\n",
      "Epoch 45/50\n",
      "134/134 [==============================] - 0s 872us/step - loss: 0.0523\n",
      "Epoch 46/50\n",
      "134/134 [==============================] - 0s 816us/step - loss: 0.0501\n",
      "Epoch 47/50\n",
      "134/134 [==============================] - 0s 830us/step - loss: 0.0478\n",
      "Epoch 48/50\n",
      "134/134 [==============================] - 0s 907us/step - loss: 0.0455\n",
      "Epoch 49/50\n",
      "134/134 [==============================] - 0s 831us/step - loss: 0.0431\n",
      "Epoch 50/50\n",
      "134/134 [==============================] - 0s 847us/step - loss: 0.0406\n"
     ]
    }
   ],
   "source": [
    "history = model_6_8_6.fit(X, y, batch_size=6, epochs=50)"
   ]
  },
  {
   "cell_type": "code",
   "execution_count": 32,
   "metadata": {},
   "outputs": [
    {
     "data": {
      "text/plain": [
       "[<matplotlib.lines.Line2D at 0x2615953c8e0>]"
      ]
     },
     "execution_count": 32,
     "metadata": {},
     "output_type": "execute_result"
    },
    {
     "data": {
      "image/png": "[encoded data removed]",
      "text/plain": [
       "<Figure size 432x288 with 1 Axes>"
      ]
     },
     "metadata": {
      "needs_background": "light"
     },
     "output_type": "display_data"
    }
   ],
   "source": [
    "import matplotlib.pyplot as plt\n",
    "plt.plot(history.history['loss'])"
   ]
  },
  {
   "cell_type": "code",
   "execution_count": 37,
   "metadata": {
    "colab": {
     "base_uri": "https://localhost:8080/",
     "height": 34
    },
    "executionInfo": {
     "elapsed": 7191,
     "status": "ok",
     "timestamp": 1603868652990,
     "user": {
      "displayName": "Parrison Forrd",
      "photoUrl": "https://lh3.googleusercontent.com/a-/AOh14Gg9EyVb1YoVPDuTPZoDKSom3sGncziictKef5fSiw=s64",
      "userId": "16897374853976334969"
     },
     "user_tz": -180
    },
    "id": "_S5IO-jL_X0w",
    "outputId": "6cc5b480-1511-45c1-c071-5c5e0df95116"
   },
   "outputs": [
    {
     "data": {
      "text/plain": [
       "(3104.0, 0.006466666666666667)"
      ]
     },
     "execution_count": 37,
     "metadata": {
      "tags": []
     },
     "output_type": "execute_result"
    }
   ],
   "source": [
    "run_test(model_6_8_6, 0.5, X, y, k=100)"
   ]
  },
  {
   "cell_type": "markdown",
   "metadata": {},
   "source": [
    "## Трехзначная логика"
   ]
  },
  {
   "attachments": {},
   "cell_type": "markdown",
   "metadata": {},
   "source": [
    "Два входа и моделирующих основные функции классической трёхзначной логики - конъюнкция, дизъюнкция, испликации, циклический сдвиг первого входа и отрицание второго входа."
   ]
  },
  {
   "cell_type": "code",
   "execution_count": 23,
   "metadata": {
    "id": "nZvZx7yS_X00"
   },
   "outputs": [],
   "source": [
    "def f_and(x1,x2):\n",
    "  return min(x1, x2)\n",
    "def f_or(x1,x2):\n",
    "  return max(x1, x2)\n",
    "def f_imp(x1,x2):\n",
    "  return max(2-x1, x2)\n",
    "def f_not(x1,x2):\n",
    "  return 2-x1\n",
    "def f_shift(x1,x2):\n",
    "  return (x2+1)%3"
   ]
  },
  {
   "cell_type": "code",
   "execution_count": 24,
   "metadata": {},
   "outputs": [],
   "source": [
    "inpt = [*product([0,1,2], repeat=2)]"
   ]
  },
  {
   "cell_type": "code",
   "execution_count": 25,
   "metadata": {},
   "outputs": [],
   "source": [
    "def generate_ds(k, repeat=1):\n",
    "  X = np.array([*product([0,1,2], repeat=2)]*repeat)\n",
    "  y = np.array([[f_and(*x), f_or(*x), f_imp(*x),\n",
    "                f_not(*x) ,f_shift(*x)] for x in X])\n",
    "  return X, y"
   ]
  },
  {
   "cell_type": "code",
   "execution_count": 26,
   "metadata": {},
   "outputs": [],
   "source": [
    "X, y = generate_ds(2, 200)"
   ]
  },
  {
   "cell_type": "code",
   "execution_count": 27,
   "metadata": {},
   "outputs": [
    {
     "name": "stdout",
     "output_type": "stream",
     "text": [
      "Failed to import pydot. You must install pydot and graphviz for `pydotprint` to work.\n",
      "Model: \"model_2\"\n",
      "_________________________________________________________________\n",
      "Layer (type)                 Output Shape              Param #   \n",
      "=================================================================\n",
      "input (InputLayer)           [(None, 2)]               0         \n",
      "_________________________________________________________________\n",
      "dense1 (Dense)               (None, 6)                 18        \n",
      "_________________________________________________________________\n",
      "dense2 (Dense)               (None, 8)                 56        \n",
      "_________________________________________________________________\n",
      "out (Dense)                  (None, 5)                 45        \n",
      "=================================================================\n",
      "Total params: 119\n",
      "Trainable params: 119\n",
      "Non-trainable params: 0\n",
      "_________________________________________________________________\n"
     ]
    }
   ],
   "source": [
    "inputs = keras.Input(shape=(2,), name=\"input\")\n",
    "layer1 = layers.Dense(6, activation=\"relu\", name=\"dense1\")(inputs)\n",
    "layer2 = layers.Dense(8, activation=\"relu\", name=\"dense2\")(layer1)\n",
    "outputs = layers.Dense(5, activation=\"relu\", name=\"out\")(layer2)\n",
    "model_6_8_6 = keras.Model(inputs=inputs, outputs=outputs)\n",
    "model_6_8_6.compile(loss=tf.keras.losses.mean_squared_error, optimizer=\"SGD\")\n",
    "from tensorflow.keras.utils import plot_model\n",
    "plot_model(model_6_8_6, show_shapes=True, show_layer_names=True)\n",
    "model_6_8_6.summary()"
   ]
  },
  {
   "cell_type": "code",
   "execution_count": 28,
   "metadata": {},
   "outputs": [
    {
     "name": "stdout",
     "output_type": "stream",
     "text": [
      "Epoch 1/50\n",
      "300/300 [==============================] - 0s 789us/step - loss: 1.6988\n",
      "Epoch 2/50\n",
      "300/300 [==============================] - 0s 777us/step - loss: 1.6686\n",
      "Epoch 3/50\n",
      "300/300 [==============================] - 0s 787us/step - loss: 1.6554\n",
      "Epoch 4/50\n",
      "300/300 [==============================] - 0s 800us/step - loss: 1.6476\n",
      "Epoch 5/50\n",
      "300/300 [==============================] - 0s 846us/step - loss: 1.6412\n",
      "Epoch 6/50\n",
      "300/300 [==============================] - 0s 770us/step - loss: 1.2817\n",
      "Epoch 7/50\n",
      "300/300 [==============================] - 0s 877us/step - loss: 1.0402\n",
      "Epoch 8/50\n",
      "300/300 [==============================] - 0s 777us/step - loss: 1.0118\n",
      "Epoch 9/50\n",
      "300/300 [==============================] - 0s 820us/step - loss: 0.9900\n",
      "Epoch 10/50\n",
      "300/300 [==============================] - 0s 823us/step - loss: 0.9748\n",
      "Epoch 11/50\n",
      "300/300 [==============================] - 0s 913us/step - loss: 0.9612\n",
      "Epoch 12/50\n",
      "300/300 [==============================] - 0s 773us/step - loss: 0.9477\n",
      "Epoch 13/50\n",
      "300/300 [==============================] - 0s 856us/step - loss: 0.9335\n",
      "Epoch 14/50\n",
      "300/300 [==============================] - 0s 807us/step - loss: 0.9195\n",
      "Epoch 15/50\n",
      "300/300 [==============================] - 0s 830us/step - loss: 0.9065\n",
      "Epoch 16/50\n",
      "300/300 [==============================] - 0s 800us/step - loss: 0.8954\n",
      "Epoch 17/50\n",
      "300/300 [==============================] - 0s 843us/step - loss: 0.8867\n",
      "Epoch 18/50\n",
      "300/300 [==============================] - 0s 823us/step - loss: 0.8800\n",
      "Epoch 19/50\n",
      "300/300 [==============================] - 0s 857us/step - loss: 0.8748\n",
      "Epoch 20/50\n",
      "300/300 [==============================] - 0s 843us/step - loss: 0.8709\n",
      "Epoch 21/50\n",
      "300/300 [==============================] - 0s 784us/step - loss: 0.8680\n",
      "Epoch 22/50\n",
      "300/300 [==============================] - 0s 847us/step - loss: 0.8656\n",
      "Epoch 23/50\n",
      "300/300 [==============================] - 0s 787us/step - loss: 0.8638\n",
      "Epoch 24/50\n",
      "300/300 [==============================] - 0s 870us/step - loss: 0.8623\n",
      "Epoch 25/50\n",
      "300/300 [==============================] - 0s 764us/step - loss: 0.8611\n",
      "Epoch 26/50\n",
      "300/300 [==============================] - 0s 758us/step - loss: 0.8601\n",
      "Epoch 27/50\n",
      "300/300 [==============================] - 0s 770us/step - loss: 0.8592\n",
      "Epoch 28/50\n",
      "300/300 [==============================] - 0s 774us/step - loss: 0.8583\n",
      "Epoch 29/50\n",
      "300/300 [==============================] - 0s 780us/step - loss: 0.8576\n",
      "Epoch 30/50\n",
      "300/300 [==============================] - 0s 777us/step - loss: 0.8570\n",
      "Epoch 31/50\n",
      "300/300 [==============================] - 0s 787us/step - loss: 0.8564\n",
      "Epoch 32/50\n",
      "300/300 [==============================] - 0s 830us/step - loss: 0.8559\n",
      "Epoch 33/50\n",
      "300/300 [==============================] - 0s 787us/step - loss: 0.8555\n",
      "Epoch 34/50\n",
      "300/300 [==============================] - 0s 780us/step - loss: 0.8550\n",
      "Epoch 35/50\n",
      "300/300 [==============================] - 0s 807us/step - loss: 0.8547\n",
      "Epoch 36/50\n",
      "300/300 [==============================] - 0s 783us/step - loss: 0.8543\n",
      "Epoch 37/50\n",
      "300/300 [==============================] - 0s 773us/step - loss: 0.8540\n",
      "Epoch 38/50\n",
      "300/300 [==============================] - 0s 797us/step - loss: 0.8537\n",
      "Epoch 39/50\n",
      "300/300 [==============================] - 0s 891us/step - loss: 0.8534\n",
      "Epoch 40/50\n",
      "300/300 [==============================] - 0s 776us/step - loss: 0.8531\n",
      "Epoch 41/50\n",
      "300/300 [==============================] - 0s 807us/step - loss: 0.8529\n",
      "Epoch 42/50\n",
      "300/300 [==============================] - 0s 763us/step - loss: 0.8527\n",
      "Epoch 43/50\n",
      "300/300 [==============================] - 0s 793us/step - loss: 0.8524\n",
      "Epoch 44/50\n",
      "300/300 [==============================] - 0s 799us/step - loss: 0.8522\n",
      "Epoch 45/50\n",
      "300/300 [==============================] - 0s 880us/step - loss: 0.8520\n",
      "Epoch 46/50\n",
      "300/300 [==============================] - 0s 770us/step - loss: 0.8518\n",
      "Epoch 47/50\n",
      "300/300 [==============================] - 0s 850us/step - loss: 0.8516\n",
      "Epoch 48/50\n",
      "300/300 [==============================] - 0s 803us/step - loss: 0.8513\n",
      "Epoch 49/50\n",
      "300/300 [==============================] - 0s 1ms/step - loss: 0.8512\n",
      "Epoch 50/50\n",
      "300/300 [==============================] - 0s 797us/step - loss: 0.8510\n"
     ]
    }
   ],
   "source": [
    "history = model_6_8_6.fit(X, y, batch_size=6, epochs=50)"
   ]
  },
  {
   "cell_type": "code",
   "execution_count": 33,
   "metadata": {},
   "outputs": [
    {
     "data": {
      "text/plain": [
       "[<matplotlib.lines.Line2D at 0x261595d94f0>]"
      ]
     },
     "execution_count": 33,
     "metadata": {},
     "output_type": "execute_result"
    },
    {
     "data": {
      "image/png": "[encoded data removed]",
      "text/plain": [
       "<Figure size 432x288 with 1 Axes>"
      ]
     },
     "metadata": {
      "needs_background": "light"
     },
     "output_type": "display_data"
    }
   ],
   "source": [
    "import matplotlib.pyplot as plt\n",
    "plt.plot(history.history['loss'])"
   ]
  },
  {
   "cell_type": "code",
   "execution_count": 29,
   "metadata": {},
   "outputs": [
    {
     "data": {
      "text/plain": [
       "(773659.0, 0.8596211111111111)"
      ]
     },
     "execution_count": 29,
     "metadata": {},
     "output_type": "execute_result"
    }
   ],
   "source": [
    "run_test(model_6_8_6, 0.5, X, y, k=100)"
   ]
  },
  {
   "cell_type": "code",
   "execution_count": 30,
   "metadata": {},
   "outputs": [
    {
     "name": "stdout",
     "output_type": "stream",
     "text": [
      "Failed to import pydot. You must install pydot and graphviz for `pydotprint` to work.\n",
      "Model: \"model_3\"\n",
      "_________________________________________________________________\n",
      "Layer (type)                 Output Shape              Param #   \n",
      "=================================================================\n",
      "input (InputLayer)           [(None, 2)]               0         \n",
      "_________________________________________________________________\n",
      "dense1 (Dense)               (None, 6)                 18        \n",
      "_________________________________________________________________\n",
      "dense2 (Dense)               (None, 8)                 56        \n",
      "_________________________________________________________________\n",
      "out (Dense)                  (None, 5)                 45        \n",
      "=================================================================\n",
      "Total params: 119\n",
      "Trainable params: 119\n",
      "Non-trainable params: 0\n",
      "_________________________________________________________________\n"
     ]
    }
   ],
   "source": [
    "inputs = keras.Input(shape=(2,), name=\"input\")\n",
    "layer1 = layers.Dense(6, activation=\"tanh\", name=\"dense1\")(inputs)\n",
    "layer2 = layers.Dense(8, activation=\"tanh\", name=\"dense2\")(layer1)\n",
    "outputs = layers.Dense(5, activation=\"relu\", name=\"out\")(layer2)\n",
    "model_6_8_6_tanh = keras.Model(inputs=inputs, outputs=outputs)\n",
    "model_6_8_6_tanh.compile(loss=tf.keras.losses.mean_squared_error, optimizer=\"SGD\")\n",
    "from tensorflow.keras.utils import plot_model\n",
    "plot_model(model_6_8_6_tanh, show_shapes=True, show_layer_names=True)\n",
    "model_6_8_6_tanh.summary()"
   ]
  },
  {
   "cell_type": "code",
   "execution_count": 31,
   "metadata": {},
   "outputs": [
    {
     "name": "stdout",
     "output_type": "stream",
     "text": [
      "Epoch 1/50\n",
      "300/300 [==============================] - 0s 787us/step - loss: 0.7128\n",
      "Epoch 2/50\n",
      "300/300 [==============================] - 0s 830us/step - loss: 0.3955\n",
      "Epoch 3/50\n",
      "300/300 [==============================] - 0s 839us/step - loss: 0.3166\n",
      "Epoch 4/50\n",
      "300/300 [==============================] - 0s 829us/step - loss: 0.2399\n",
      "Epoch 5/50\n",
      "300/300 [==============================] - 0s 807us/step - loss: 0.1814\n",
      "Epoch 6/50\n",
      "300/300 [==============================] - 0s 806us/step - loss: 0.1477\n",
      "Epoch 7/50\n",
      "300/300 [==============================] - 0s 793us/step - loss: 0.1291\n",
      "Epoch 8/50\n",
      "300/300 [==============================] - 0s 830us/step - loss: 0.1169\n",
      "Epoch 9/50\n",
      "300/300 [==============================] - 0s 820us/step - loss: 0.1071\n",
      "Epoch 10/50\n",
      "300/300 [==============================] - 0s 908us/step - loss: 0.0979\n",
      "Epoch 11/50\n",
      "300/300 [==============================] - 0s 770us/step - loss: 0.0889\n",
      "Epoch 12/50\n",
      "300/300 [==============================] - 0s 797us/step - loss: 0.0794\n",
      "Epoch 13/50\n",
      "300/300 [==============================] - 0s 804us/step - loss: 0.0699\n",
      "Epoch 14/50\n",
      "300/300 [==============================] - 0s 813us/step - loss: 0.0602\n",
      "Epoch 15/50\n",
      "300/300 [==============================] - 0s 813us/step - loss: 0.0506\n",
      "Epoch 16/50\n",
      "300/300 [==============================] - 0s 821us/step - loss: 0.0414\n",
      "Epoch 17/50\n",
      "300/300 [==============================] - 0s 860us/step - loss: 0.0334\n",
      "Epoch 18/50\n",
      "300/300 [==============================] - 0s 797us/step - loss: 0.0268\n",
      "Epoch 19/50\n",
      "300/300 [==============================] - 0s 779us/step - loss: 0.0217\n",
      "Epoch 20/50\n",
      "300/300 [==============================] - 0s 780us/step - loss: 0.0179\n",
      "Epoch 21/50\n",
      "300/300 [==============================] - 0s 794us/step - loss: 0.0152\n",
      "Epoch 22/50\n",
      "300/300 [==============================] - 0s 797us/step - loss: 0.0132\n",
      "Epoch 23/50\n",
      "300/300 [==============================] - 0s 849us/step - loss: 0.0118\n",
      "Epoch 24/50\n",
      "300/300 [==============================] - 0s 783us/step - loss: 0.0107\n",
      "Epoch 25/50\n",
      "300/300 [==============================] - 0s 787us/step - loss: 0.0099\n",
      "Epoch 26/50\n",
      "300/300 [==============================] - 0s 787us/step - loss: 0.0093\n",
      "Epoch 27/50\n",
      "300/300 [==============================] - 0s 860us/step - loss: 0.0088\n",
      "Epoch 28/50\n",
      "300/300 [==============================] - 0s 783us/step - loss: 0.0084\n",
      "Epoch 29/50\n",
      "300/300 [==============================] - 0s 800us/step - loss: 0.0081\n",
      "Epoch 30/50\n",
      "300/300 [==============================] - 0s 804us/step - loss: 0.0078\n",
      "Epoch 31/50\n",
      "300/300 [==============================] - 0s 800us/step - loss: 0.0076\n",
      "Epoch 32/50\n",
      "300/300 [==============================] - 0s 877us/step - loss: 0.0074\n",
      "Epoch 33/50\n",
      "300/300 [==============================] - 0s 797us/step - loss: 0.0072\n",
      "Epoch 34/50\n",
      "300/300 [==============================] - 0s 790us/step - loss: 0.0070\n",
      "Epoch 35/50\n",
      "300/300 [==============================] - 0s 806us/step - loss: 0.0069\n",
      "Epoch 36/50\n",
      "300/300 [==============================] - 0s 793us/step - loss: 0.0067\n",
      "Epoch 37/50\n",
      "300/300 [==============================] - 0s 820us/step - loss: 0.0066\n",
      "Epoch 38/50\n",
      "300/300 [==============================] - 0s 887us/step - loss: 0.0065\n",
      "Epoch 39/50\n",
      "300/300 [==============================] - 0s 797us/step - loss: 0.0064\n",
      "Epoch 40/50\n",
      "300/300 [==============================] - 0s 810us/step - loss: 0.0063\n",
      "Epoch 41/50\n",
      "300/300 [==============================] - 0s 923us/step - loss: 0.0062\n",
      "Epoch 42/50\n",
      "300/300 [==============================] - 0s 840us/step - loss: 0.0061\n",
      "Epoch 43/50\n",
      "300/300 [==============================] - ETA: 0s - loss: 0.006 - 0s 913us/step - loss: 0.0060\n",
      "Epoch 44/50\n",
      "300/300 [==============================] - 0s 923us/step - loss: 0.0059\n",
      "Epoch 45/50\n",
      "300/300 [==============================] - 0s 827us/step - loss: 0.0058\n",
      "Epoch 46/50\n",
      "300/300 [==============================] - 0s 740us/step - loss: 0.0057\n",
      "Epoch 47/50\n",
      "300/300 [==============================] - 0s 720us/step - loss: 0.0056\n",
      "Epoch 48/50\n",
      "300/300 [==============================] - 0s 870us/step - loss: 0.0055\n",
      "Epoch 49/50\n",
      "300/300 [==============================] - 0s 807us/step - loss: 0.0054\n",
      "Epoch 50/50\n",
      "300/300 [==============================] - 0s 703us/step - loss: 0.0054\n"
     ]
    }
   ],
   "source": [
    "history = model_6_8_6_tanh.fit(X, y, batch_size=6, epochs=50)"
   ]
  },
  {
   "cell_type": "code",
   "execution_count": 34,
   "metadata": {},
   "outputs": [
    {
     "data": {
      "text/plain": [
       "[<matplotlib.lines.Line2D at 0x26159631e20>]"
      ]
     },
     "execution_count": 34,
     "metadata": {},
     "output_type": "execute_result"
    },
    {
     "data": {
      "image/png": "[encoded data removed]",
      "text/plain": [
       "<Figure size 432x288 with 1 Axes>"
      ]
     },
     "metadata": {
      "needs_background": "light"
     },
     "output_type": "display_data"
    }
   ],
   "source": [
    "import matplotlib.pyplot as plt\n",
    "plt.plot(history.history['loss'])"
   ]
  },
  {
   "cell_type": "code",
   "execution_count": null,
   "metadata": {},
   "outputs": [],
   "source": []
  }
 ],
 "metadata": {
  "colab": {
   "collapsed_sections": [],
   "name": "NN1.ipynb",
   "provenance": []
  },
  "kernelspec": {
   "display_name": "Python 3",
   "language": "python",
   "name": "python3"
  },
  "language_info": {
   "codemirror_mode": {
    "name": "ipython",
    "version": 3
   },
   "file_extension": ".py",
   "mimetype": "text/x-python",
   "name": "python",
   "nbconvert_exporter": "python",
   "pygments_lexer": "ipython3",
   "version": "3.8.3"
  }
 },
 "nbformat": 4,
 "nbformat_minor": 1
}
